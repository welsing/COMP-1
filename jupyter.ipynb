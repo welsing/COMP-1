{
 "cells": [
  {
   "cell_type": "code",
   "execution_count": 69,
   "metadata": {},
   "outputs": [],
   "source": [
    "# FUNÇÕES GERAIS\n",
    "\n",
    "def barra(tamanho, caractere=\"*\", exer=0):\n",
    "    \"\"\"Imprime uma barra de caracteres e o número do exercicio.\n",
    "    (int, str, int) -> None\n",
    "    \"\"\"\n",
    "    print(caractere * tamanho)\n",
    "    if exer != 0: print(\" \"*tamanho,f\">> EXERCÍCIO {exer} <<\\n\")"
   ]
  },
  {
   "cell_type": "code",
   "execution_count": 70,
   "metadata": {},
   "outputs": [
    {
     "data": {
      "text/plain": [
       "523.5987755982989"
      ]
     },
     "execution_count": 70,
     "metadata": {},
     "output_type": "execute_result"
    }
   ],
   "source": [
    "# Exercício 7. Volume de uma esfera.\n",
    "# Crie uma função volume_esfera que receba como parâmetro o raio de uma\n",
    "# esfera e retorne seu volume usando a fórmula\n",
    "# Para o valor de π você pode usar math.pi (variável pi no módulo math).\n",
    "\n",
    "\n",
    "from math import pi\n",
    "\n",
    "def volumeEsfera(raio):\n",
    "    volume = (4*pi*raio**3)/3\n",
    "    return volume\n",
    "\n",
    "volumeEsfera(5)"
   ]
  },
  {
   "cell_type": "code",
   "execution_count": 13,
   "metadata": {},
   "outputs": [
    {
     "name": "stdout",
     "output_type": "stream",
     "text": [
      "APENAS NÚMEROS INTEIROS\n",
      "APENAS NÚMEROS INTEIROS\n",
      "APENAS NÚMEROS INTEIROS\n",
      "APENAS NÚMEROS INTEIROS\n",
      "APENAS NÚMEROS INTEIROS\n",
      "5\n"
     ]
    }
   ],
   "source": [
    "# Testando a possibilidade de utilizar o return onde eu quiser.\n",
    "\n",
    "def perguntar_int():\n",
    "    \n",
    "    while True:\n",
    "        resp = input(\"DIGITE UM NÚMERO INTEIRO: \")\n",
    "        if str.isdigit(resp):\n",
    "            return int(resp)\n",
    "        else:\n",
    "            print(\"APENAS NÚMEROS INTEIROS\")\n",
    "            \n",
    "\n",
    "\n",
    "i = perguntar_int()\n",
    "\n",
    "print(i+1)"
   ]
  },
  {
   "cell_type": "code",
   "execution_count": 17,
   "metadata": {},
   "outputs": [
    {
     "name": "stdout",
     "output_type": "stream",
     "text": [
      "APENAS NÚMEROS INTEIROS\n",
      "APENAS NÚMEROS INTEIROS\n",
      "APENAS NÚMEROS INTEIROS\n",
      "APENAS NÚMEROS INTEIROS\n",
      "ZERO\n"
     ]
    }
   ],
   "source": [
    "# Crie uma função que receba um número real como argumento e retorne:\n",
    "# • “positivo” se o número for positivo\n",
    "# • “negativo” se o número for negativo\n",
    "# • “zero” no caso contrário\n",
    "\n",
    "\n",
    "def isReal(num):\n",
    "    if num > 0:\n",
    "        print(\"POSITIVO\")\n",
    "    elif num < 0:\n",
    "        print(\"NEGATIVO\")\n",
    "    else:\n",
    "        print(\"ZERO\")\n",
    "\n",
    "while True:\n",
    "        resp = input(\"DIGITE UM NÚMERO INTEIRO: \")\n",
    "        if str.isdigit(resp):                    ## NÃO FUNCIONA COM NÚMEROS NEGATIVOS, POR QUE?\n",
    "            resp = int(resp)\n",
    "            break\n",
    "        else:\n",
    "            print(\"APENAS NÚMEROS INTEIROS\")\n",
    "\n",
    " \n",
    "isReal(resp)"
   ]
  },
  {
   "cell_type": "code",
   "execution_count": 12,
   "metadata": {},
   "outputs": [
    {
     "name": "stdout",
     "output_type": "stream",
     "text": [
      ">>> DIGITE UM NÚMERO INTEIRO ENTRE 3 E 8\n",
      "SOMENTE DENTRO DO INTERVALO.\n",
      ">>> DIGITE UM NÚMERO INTEIRO ENTRE 3 E 8\n",
      "SOMENTE NÚMEROS INTEIROS\n",
      ">>> DIGITE UM NÚMERO INTEIRO ENTRE 3 E 8\n",
      "Boa! \n"
     ]
    }
   ],
   "source": [
    "# Exercício 9. Perguntar inteiro num intervalo.\n",
    "# Escreva uma função que pergunte um número inteiro dentro de um intervalo\n",
    "# [a, b], onde a e b são parâmetros da função. A função deve “reclamar” se o\n",
    "# texto digitado não for inteiro, ou se o número não estiver dentro do intervalo\n",
    "# requerido. \n",
    "\n",
    "\n",
    "def qNum(a, b):\n",
    "    while True: \n",
    "        print(f\">>> DIGITE UM NÚMERO INTEIRO ENTRE {a} E {b}\")\n",
    "        user = input(\"digite: \")\n",
    "\n",
    "        if user.isdigit():\n",
    "            user = int(user)\n",
    "            if user < b and user > a:\n",
    "                print(\"Boa! \")\n",
    "                break\n",
    "            else:\n",
    "                print(\"SOMENTE DENTRO DO INTERVALO.\")\n",
    "        else:\n",
    "            print(\"SOMENTE NÚMEROS INTEIROS\")\n",
    "    \n",
    "qNum(3, 8)\n"
   ]
  },
  {
   "cell_type": "code",
   "execution_count": 30,
   "metadata": {},
   "outputs": [
    {
     "name": "stdout",
     "output_type": "stream",
     "text": [
      "==================================================\n"
     ]
    }
   ],
   "source": [
    "# TESTANDO DEFINIÇÃO DE PARAMETROS OPCIONAIS\n",
    "\n",
    "def barra(tamanho, caractere=\"*\"):\n",
    "    \"\"\"Imprime uma barra de caracteres.\n",
    "    (int, str) -> None\n",
    "    \"\"\"\n",
    "    print(caractere * tamanho)\n",
    "\n",
    "barra(50, \"=\")"
   ]
  },
  {
   "cell_type": "code",
   "execution_count": 45,
   "metadata": {},
   "outputs": [
    {
     "name": "stdout",
     "output_type": "stream",
     "text": [
      "000000000000000000000000000000\n",
      "0                            0\n",
      "0                            0\n",
      "0                            0\n",
      "0                            0\n",
      "000000000000000000000000000000\n"
     ]
    }
   ],
   "source": [
    "# Exercício 10. Um retângulo de caracteres.\n",
    "# Faça uma função que imprima um retângulo de caracteres, sendo que valor\n",
    "# padrão do caractere é '#'.\n",
    "\n",
    "def retangulo(caractere=\"#\"):\n",
    "    \"\"\"Imprime um triangulo.\n",
    "    (str) -> None\"\"\"\n",
    "\n",
    "    print(f\"\"\"{caractere * 30}\n",
    "{caractere}                            {caractere}\n",
    "{caractere}                            {caractere}\n",
    "{caractere}                            {caractere}\n",
    "{caractere}                            {caractere}\n",
    "{caractere * 30}\"\"\")\n",
    "    \n",
    "\n",
    "retangulo(\"0\")\n",
    "    "
   ]
  },
  {
   "cell_type": "code",
   "execution_count": 88,
   "metadata": {},
   "outputs": [
    {
     "data": {
      "text/plain": [
       "89"
      ]
     },
     "execution_count": 88,
     "metadata": {},
     "output_type": "execute_result"
    }
   ],
   "source": [
    "# testando função recursiva\n",
    "\n",
    "def fatorial(n):\n",
    "    \"\"\"Calcula o fatorial de n.\n",
    "    (int) -> int\n",
    "    \"\"\"\n",
    "\n",
    "    if n == 0: return 1\n",
    "    return fatorial(n-1)*n   ## acho que entendi mas ainda dói a abstração do assunto.\n",
    "\n",
    "\n",
    "# CASOS DE TESTE\n",
    "# print( fatorial(1) ) # 1\n",
    "# print( fatorial(2) ) # 2\n",
    "# print( fatorial(3) ) # 6\n",
    "# print( fatorial(5) ) # 120\n",
    "\n",
    "\n",
    "\n",
    "# FIBONACCI\n",
    "\n",
    "def fibonacci(m):\n",
    "    if m < 0: return 0\n",
    "    if m < 2: return 1\n",
    "    return fibonacci(m - 1) + fibonacci(m - 2)  # NÃO ENTENDI NÃO ENTENDI NÃO ENTENDI :(\n",
    "\n",
    "fibonacci(10)"
   ]
  },
  {
   "cell_type": "code",
   "execution_count": 100,
   "metadata": {},
   "outputs": [
    {
     "data": {
      "text/plain": [
       "True"
      ]
     },
     "execution_count": 100,
     "metadata": {},
     "output_type": "execute_result"
    }
   ],
   "source": [
    "#     Exercício 11. Esse número é par?\n",
    "# Crie uma função chamada eh_par que retorne True se o argumento for par\n",
    "# e False caso contrário (o tipo de retorno é bool).\n",
    "\n",
    "\n",
    "def eh_par(num):\n",
    "    \"\"\"Determina se o número é par.\n",
    "    (int or float) -> bool\"\"\"\n",
    "\n",
    "    if num%2 == 0:\n",
    "        return True\n",
    "    else:\n",
    "        return False\n",
    "    \n",
    "    \n",
    "eh_par(22)"
   ]
  },
  {
   "cell_type": "code",
   "execution_count": 97,
   "metadata": {},
   "outputs": [
    {
     "name": "stdout",
     "output_type": "stream",
     "text": [
      "False\n",
      "False\n",
      "True\n",
      "True\n",
      "True\n"
     ]
    }
   ],
   "source": [
    "#        Exercício 12. Detector de vogais.\n",
    "# Em várias ocasiões precisamos escrever um algoritmo para saber se um\n",
    "# caractere é uma vogal ou não. Que tal colocar esse algoritmo dentro de uma\n",
    "# função eh_vogal?\n",
    "\n",
    "\n",
    "# import unidecode          Im try to import unidecode, but it not work.\n",
    "\n",
    "\n",
    "def eh_vogal(letter):\n",
    "    letter = letter.lower().strip()\n",
    "    if letter in \"aeiouáéíóúâêîôûàèìòùã\": return True \n",
    "    else: return False\n",
    "\n",
    "# CASOS DE TESTE\n",
    "print( eh_vogal(' c') ) # False\n",
    "print( eh_vogal('!') ) # False\n",
    "print( eh_vogal(' é') ) # True\n",
    "print( eh_vogal('o') ) # True\n",
    "print( eh_vogal('à') ) # True\n"
   ]
  },
  {
   "cell_type": "code",
   "execution_count": 49,
   "metadata": {},
   "outputs": [
    {
     "name": "stdout",
     "output_type": "stream",
     "text": [
      "É PRIMO\n",
      "É PRIMO\n",
      "NÃO É PRIMO\n",
      "É PRIMO\n",
      "É PRIMO\n",
      "NÃO É PRIMO\n"
     ]
    }
   ],
   "source": [
    "#      Exercício 13. Detector de primos.\n",
    "# Escreva uma função chamada eh_primo que receba como argumento um\n",
    "# número inteiro e retorne True caso o número seja primo, ou False caso\n",
    "# contrário (o tipo de retorno é bool). Seu código deve conter casos de teste\n",
    "# para os números 1, 3, 9 e 17.\n",
    "\n",
    "def eh_primo(num):\n",
    "    for i in range(num-1, 1, -1):\n",
    "        if num%i == 0:\n",
    "            return \"NÃO É PRIMO\"\n",
    "    return \"É PRIMO\"\n",
    "\n",
    "        \n",
    "print(eh_primo(1))\n",
    "print(eh_primo(5))\n",
    "print(eh_primo(9))\n",
    "print(eh_primo(17))\n",
    "print(eh_primo(11))\n",
    "print(eh_primo(16))\n",
    "\n",
    "\n",
    "\n",
    "\n",
    "\n"
   ]
  },
  {
   "cell_type": "code",
   "execution_count": 62,
   "metadata": {},
   "outputs": [
    {
     "name": "stdout",
     "output_type": "stream",
     "text": [
      "Flamentino\n",
      "Letiela\n",
      "Marsé\n"
     ]
    }
   ],
   "source": [
    "# Exercício 14. Função para shipar casais.\n",
    "# O amor está no ar! E por isso vamos criar uma função para ajudar os crushes!\n",
    "# Crie uma função que retorne uma string juntando metade do nome da\n",
    "# primeira pessoa com metade do nome da segunda. Se inspire nestes casos\n",
    "# de teste:\n",
    "\n",
    "\n",
    "\n",
    "def shipar(nome1, nome2):\n",
    "    metade1 = nome1[0:(len(nome1)//2)+1]\n",
    "    metade2 = nome2[len(nome2)//2:]\n",
    "    return metade1 + metade2\n",
    "\n",
    "\n",
    "# # CASOS DE TESTE\n",
    "print( shipar('Flamengo', 'Bragantino') ) # Flamentino\n",
    "print( shipar('Leticia', 'Mirela') ) # Letela\n",
    "print( shipar('Maria', 'José') ) # Masé"
   ]
  },
  {
   "cell_type": "code",
   "execution_count": 96,
   "metadata": {},
   "outputs": [
    {
     "name": "stdout",
     "output_type": "stream",
     "text": [
      "O rAtO rOEU A rOUpA dO rEI dE ROmA\n"
     ]
    }
   ],
   "source": [
    "# Exercício 15. Frase estilizada.\n",
    "# Um texto estilizado causa impacto. Porque não usar a função eh_vogal para\n",
    "# passar as vogais de uma frase para maiúsculas? Lembre-se de que string é\n",
    "# imutável, então você deve criar uma string vazia e ir adicionando cada\n",
    "# caractere da frase original. Se o caractere for uma vogal, adicione c.upper(),\n",
    "# caso contrário adicione somente c. O resultado para \"O rato roeu a roupa do\n",
    "# rei de Roma\" deve ser \"O rAtO rOEU A rOUpA dO rEI de ROmA\".\n",
    "\n",
    "def estilizada(frase):\n",
    "    newFrase = ''\n",
    "  \n",
    "    i = 0\n",
    "    while i < len(frase):\n",
    "        if eh_vogal(frase[i]) is True:\n",
    "            newFrase += frase[i].upper()\n",
    "        else:\n",
    "            newFrase += frase[i]\n",
    "        i += 1\n",
    "        \n",
    "\n",
    "    print(newFrase)\n",
    "\n",
    "estilizada(\"O rato roeu a roupa do rei de Roma\")\n",
    "\n"
   ]
  },
  {
   "cell_type": "code",
   "execution_count": 6,
   "metadata": {},
   "outputs": [
    {
     "name": "stdout",
     "output_type": "stream",
     "text": [
      "(-4, -4, -4, -4)\n"
     ]
    }
   ],
   "source": [
    "# soma de vetores\n",
    "\n",
    "a = (1, 2, 3, 4)\n",
    "b = (-5, -6, -7, -8)\n",
    "\n",
    "\n",
    "def soma_Vet(d, c):\n",
    "    new_t = ()\n",
    "    for i, j in zip(d, c):\n",
    "        \n",
    "        new_t += (i+j, )     # modo novo\n",
    "    \n",
    "    # new_t = tuple(new_t)   # modo antigo\n",
    "    print(new_t)\n",
    "\n",
    "\n",
    "soma_Vet(a, b)"
   ]
  },
  {
   "cell_type": "code",
   "execution_count": 23,
   "metadata": {},
   "outputs": [
    {
     "name": "stdout",
     "output_type": "stream",
     "text": [
      "PYTHoN é SeNSaCioNaL\n"
     ]
    }
   ],
   "source": [
    "#       Exercício 7. Estilizando o texto.\n",
    "# Uma frase estilizada causa impacto! Crie uma função que pegue uma string e\n",
    "# passe todas as vogais para minúscula e consoantes para maiúscula. A função\n",
    "# deve retornar a string estilizada. Apresente um caso de teste.\n",
    "\n",
    "\n",
    "def text_modify(texto):\n",
    "    new_text = \"\"\n",
    "    for letra in texto:\n",
    "        if letra in \"AEIOUÁÉÍÓÚÂÊÎÔÛ\":\n",
    "            letra = letra.lower()\n",
    "        \n",
    "        if letra in \"bcdfghjklmnpqrstvxwyz\":\n",
    "            letra = letra.upper()\n",
    "        \n",
    "        new_text += letra\n",
    "    return new_text\n",
    "            \n",
    "        \n",
    "print(text_modify(\"PyThON É SENsacional\"))"
   ]
  },
  {
   "cell_type": "code",
   "execution_count": 15,
   "metadata": {},
   "outputs": [
    {
     "name": "stdout",
     "output_type": "stream",
     "text": [
      "-60\n",
      "13\n",
      "-10\n"
     ]
    }
   ],
   "source": [
    "# PRODUTO DE VETORES\n",
    "\n",
    "a = (3, 9, -1, 2)\n",
    "b = (-5, -5, 0, 0)\n",
    "c = (1, 1, 1, 1)\n",
    "\n",
    "def prod_esc(x, y):\n",
    "    h = 0\n",
    "    for i, j in zip(x,y):\n",
    "        h += i*j\n",
    "    \n",
    "    return h\n",
    "        \n",
    "\n",
    "\n",
    "# CASOS DE TESTE\n",
    "\n",
    "print( prod_esc(a, b) ) # -60\n",
    "print( prod_esc(a, c) ) # 13\n",
    "print( prod_esc(b, c) ) # -10"
   ]
  },
  {
   "cell_type": "code",
   "execution_count": 7,
   "metadata": {},
   "outputs": [
    {
     "name": "stdout",
     "output_type": "stream",
     "text": [
      "Jim é VENDEDOR e ganha R$4200.00\n"
     ]
    }
   ],
   "source": [
    "## Algoritmo de pesquisa em uma tabela.\n",
    "\n",
    "\n",
    "tabela = [\n",
    "    [\"Angela\", \"Administração\", 2345, 3700.00],\n",
    "    [\"Toby\", \"RH\", 4852, 3500.00],\n",
    "    [\"Jim\", \"Vendas\", 1875, 4200.00]\n",
    "]\n",
    "\n",
    "\n",
    "for linha in tabela:\n",
    "    nome = linha[0]\n",
    "    salario = linha[3]\n",
    "    setor = linha[1]\n",
    "    if setor == \"Vendas\":\n",
    "        print(f\"{nome} é VENDEDOR e ganha R${salario:.2f}\")"
   ]
  },
  {
   "cell_type": "code",
   "execution_count": 28,
   "metadata": {},
   "outputs": [
    {
     "name": "stdout",
     "output_type": "stream",
     "text": [
      "A matriz tem 2 linhas e 3 colunas\n",
      "Coluna 1: 1, 4 \n",
      "Coluna 2: 2, 5 \n",
      "Coluna 3: 3, 6 \n",
      "A matriz é quadrada? False\n"
     ]
    }
   ],
   "source": [
    "## ENTENDENDO MATRIZES\n",
    "\n",
    "def spec_matriz(matriz):\n",
    "    print(f\"A matriz tem {len(matriz)} linhas e {len(matriz[0])} colunas\")\n",
    "\n",
    "    print(f\"Coluna 1: {matriz[0][0]}, {matriz[1][0]} \")\n",
    "    print(f\"Coluna 2: {matriz[0][1]}, {matriz[1][1]} \")\n",
    "    print(f\"Coluna 3: {matriz[0][2]}, {matriz[1][2]} \")\n",
    "\n",
    "    if len(matriz) == len(matriz[0]):\n",
    "        quadrada = True\n",
    "    else:\n",
    "        quadrada = False\n",
    "\n",
    "    print(f\"A matriz é quadrada? {quadrada}\")\n",
    "\n",
    "\n",
    "M = [\n",
    "    [1, 2, 3],\n",
    "    [4, 5, 6]\n",
    "]\n",
    "\n",
    "spec_matriz(M)\n",
    "\n"
   ]
  },
  {
   "cell_type": "code",
   "execution_count": 32,
   "metadata": {},
   "outputs": [
    {
     "name": "stdout",
     "output_type": "stream",
     "text": [
      "A soma da matriz ((1, 2, 3), (4, 5, 6), (7, 8, 9)) é de 45\n"
     ]
    }
   ],
   "source": [
    "## SOMA DE MATRIZES\n",
    "\n",
    "def soma_Matriz(matriz):\n",
    "    soma = 0\n",
    "    for linha in matriz:\n",
    "        soma += sum(linha)\n",
    "    \n",
    "    print(f\"A soma da matriz {matriz} é de {soma}\")\n",
    "\n",
    "\n",
    "M = ((1, 2, 3), (4, 5, 6), (7, 8, 9))\n",
    "\n",
    "soma_Matriz(M)\n"
   ]
  },
  {
   "cell_type": "code",
   "execution_count": 36,
   "metadata": {},
   "outputs": [
    {
     "name": "stdout",
     "output_type": "stream",
     "text": [
      "A densidade dessa matriz é 22\n"
     ]
    }
   ],
   "source": [
    "# exercicio 5: Densidade de uma matriz\n",
    "\n",
    "def densidade(matriz):\n",
    "    densidade = 0 \n",
    "    for linha in matriz:\n",
    "        for número in linha:\n",
    "            if número != 0:\n",
    "                densidade += número\n",
    "    print(f\"A densidade dessa matriz é {densidade}\")\n",
    "\n",
    "\n",
    "M = [\n",
    "    [1, 2, 3], [6, 6, 0], [0, 0, 4]\n",
    "]\n",
    "\n",
    "densidade(M)\n"
   ]
  },
  {
   "cell_type": "code",
   "execution_count": 41,
   "metadata": {},
   "outputs": [
    {
     "name": "stdout",
     "output_type": "stream",
     "text": [
      ". . . . . . . . . \n",
      ". . . . . . . . . \n",
      ". . . . . . . . . \n",
      ". . . . . . . . . \n",
      ". . . . . . . . . \n",
      ". . . . . . . . . \n",
      ". . . . . . . . . \n",
      ". . . . . . . . . \n",
      ". . . . . . . . . \n"
     ]
    }
   ],
   "source": [
    "# Criando um tabuleiro de sudoko\n",
    "\n",
    "def new_tab():\n",
    "\n",
    "    t = []\n",
    "    for i in range(9):\n",
    "        linha = [0]*9\n",
    "        t.append(linha)\n",
    "    return t\n",
    "\n",
    "\n",
    "def view_tab(tab):\n",
    "    for linha in tab:\n",
    "        for n in linha:\n",
    "            if n == 0:\n",
    "                print('.', end=\" \")\n",
    "            else:\n",
    "                print(n, end=' ')\n",
    "        print('')\n",
    "\n",
    "\n",
    "\n",
    "tabuleiro = new_tab()\n",
    "view_tab(tabuleiro)\n",
    "\n",
    "\n"
   ]
  },
  {
   "cell_type": "code",
   "execution_count": 16,
   "metadata": {},
   "outputs": [
    {
     "name": "stdout",
     "output_type": "stream",
     "text": [
      "Bowser          42.7\n",
      "Mario           36.2\n",
      "Luigi           57.2\n",
      "Peach           29.5\n"
     ]
    }
   ],
   "source": [
    "# Exercício 1. Dicionário de kart.\n",
    "# No papel, crie um dicionário para o exemplo de corredores de kart da \n",
    "# primeira página. O nome do corredor será a chave, e o tempo de volta será \n",
    "# conteúdo. Depois apague a entrada de Bowser e imprima os tempos de Mario \n",
    "# e Peach. Utilize o operador in para testar se Luigi está no dicionário.\n",
    "\n",
    "\n",
    "corredores = {'Bowser': 42.7, 'Mario': 36.2, 'Luigi': 57.2, 'Peach': 29.5}\n",
    "\n",
    "for corredor in corredores:\n",
    "    print(f\"{corredor:<15} {corredores[corredor]}\")\n",
    "\n"
   ]
  },
  {
   "cell_type": "code",
   "execution_count": 87,
   "metadata": {},
   "outputs": [
    {
     "name": "stdout",
     "output_type": "stream",
     "text": [
      "0 0 7 \n",
      "0 5 1 \n",
      "\u001b[92m#\u001b[0m \u001b[92m#\u001b[0m \u001b[92m#\u001b[0m \n",
      "0 4 0 \n",
      "0 0 8 \n",
      "\u001b[92m#\u001b[0m \u001b[92m#\u001b[0m \u001b[92m#\u001b[0m \n",
      "0 4 7 \n",
      "0 5 9 \n",
      "\u001b[92m#\u001b[0m \u001b[92m#\u001b[0m \u001b[92m#\u001b[0m \n",
      "[[0, 4, 7], [0, 5, 9]]\n"
     ]
    }
   ],
   "source": [
    "# AULA DE MATRIZ (13/06)\n",
    "# Exercicio 1\n",
    "\n",
    "def generate_matriz(nlin, ncol):\n",
    "    \"\"\"Cria uma matriz com um número determinado de colunas e linhas.\n",
    "    (int, int) -> list\n",
    "    \"\"\"\n",
    "    M = []\n",
    "    for i in range(nlin):\n",
    "        M.append([0]*ncol)\n",
    "        \n",
    "    return M\n",
    "\n",
    "\n",
    "def show(matriz):\n",
    "    for linha in matriz:\n",
    "        for coluna in linha:\n",
    "            print(coluna, end=\" \")\n",
    "        print()\n",
    "    print(\"\\033[92m#\\033[0m \"*(len(matriz[0])))\n",
    "\n",
    "\n",
    "def msum(A, B):\n",
    "    '''Retorna a soma de 2 matrizes. \\n\n",
    "    (list, list) -> list'''\n",
    "    if len(A) == len(B) and len(A[0]) == len(B[0]):\n",
    "\n",
    "        lin = len(A)\n",
    "        col = len(B[0])\n",
    "\n",
    "        c = generate_matriz(lin, col)\n",
    "        for linha in range(lin):\n",
    "            for coluna in range(col):\n",
    "                c[linha][coluna] = A[linha][coluna] + B[linha][coluna]\n",
    "        return c\n",
    "    \n",
    "\n",
    "matriz1 = generate_matriz(2, 3)\n",
    "matriz2 = generate_matriz(2, 3)\n",
    "\n",
    "matriz2[1][2] = 8\n",
    "matriz1[1][1] = 5\n",
    "matriz2[0][1] = 4\n",
    "matriz1[0][2] = 7\n",
    "matriz1[1][2] = 1\n",
    "\n",
    "show(matriz1)\n",
    "show(matriz2)\n",
    "soma = msum(matriz1, matriz2)\n",
    "\n",
    "show(soma)\n",
    "\n",
    "\n",
    "\n",
    "\n"
   ]
  },
  {
   "cell_type": "code",
   "execution_count": 98,
   "metadata": {},
   "outputs": [
    {
     "name": "stdout",
     "output_type": "stream",
     "text": [
      "******************************\n",
      "  MATRIX CALCULATOR\n",
      "******************************\n",
      "5 5 5 \n",
      "5 5 5 \n",
      "\u001b[92m#\u001b[0m \u001b[92m#\u001b[0m \u001b[92m#\u001b[0m \n",
      "[[5, 5, 5], [5, 5, 5]]\n",
      "[[1.0, 1.0, 1.0], [1.0, 1.0, 1.0]]\n",
      "6.0 6.0 6.0 \n",
      "6.0 6.0 6.0 \n",
      "\u001b[92m#\u001b[0m \u001b[92m#\u001b[0m \u001b[92m#\u001b[0m \n",
      "[[6.0, 6.0, 6.0], [6.0, 6.0, 6.0]]\n"
     ]
    }
   ],
   "source": [
    "# AULA DE MATRIZ (13/06)\n",
    "# Exercicio 2\n",
    "\n",
    "barra(30)\n",
    "print(\"  MATRIX CALCULATOR\")\n",
    "barra(30)\n",
    "\n",
    "M = []\n",
    "while True:\n",
    "    linha = input(\"DIGITE: \")\n",
    "    if linha == '':\n",
    "        break\n",
    "    numeros = linha.split()\n",
    "    for i in range(len(numeros)):\n",
    "        numeros[i] = int(numeros[i])\n",
    "    M.append(numeros)\n",
    "\n",
    "show(M)\n",
    "print(M)\n",
    "\n",
    "N = []\n",
    "while True:\n",
    "    linha = input(\"DIGITE: \")\n",
    "    if linha == '':\n",
    "        break\n",
    "    numeros = linha.split()\n",
    "    numeros = list(map(int, numeros))\n",
    "    N.append(numeros)\n",
    "\n",
    "\n",
    "print(N)\n",
    "# show(N)\n",
    "\n",
    "show(msum(M, N))\n",
    "print(msum(M, N))\n",
    "\n"
   ]
  }
 ],
 "metadata": {
  "kernelspec": {
   "display_name": "Python 3",
   "language": "python",
   "name": "python3"
  },
  "language_info": {
   "codemirror_mode": {
    "name": "ipython",
    "version": 3
   },
   "file_extension": ".py",
   "mimetype": "text/x-python",
   "name": "python",
   "nbconvert_exporter": "python",
   "pygments_lexer": "ipython3",
   "version": "3.12.3"
  }
 },
 "nbformat": 4,
 "nbformat_minor": 2
}
